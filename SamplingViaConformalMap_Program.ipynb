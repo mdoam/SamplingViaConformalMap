{
 "cells": [
  {
   "cell_type": "code",
   "execution_count": 1,
   "metadata": {
    "collapsed": true
   },
   "outputs": [],
   "source": [
    "%matplotlib inline\n",
    "import matplotlib.pyplot as plt\n",
    "import numpy as np\n",
    "import pandas as pd\n",
    "import datetime"
   ]
  },
  {
   "cell_type": "code",
   "execution_count": 2,
   "metadata": {
    "collapsed": false
   },
   "outputs": [],
   "source": [
    "x, y, z = 4/np.sqrt(3),4/np.sqrt(3),4/np.sqrt(3)\n",
    "r = 4\n",
    "a = 2"
   ]
  },
  {
   "cell_type": "code",
   "execution_count": 3,
   "metadata": {
    "collapsed": false
   },
   "outputs": [],
   "source": [
    "# calculate point's coordinates from charge using random walk\n",
    "# return point's coordinates\n",
    "def bsurf(x, y, z, r) :\n",
    "    temp = a/r\n",
    "    p2 = np.random.rand(1)\n",
    "    costh = -(1.0-temp)**2 + 2*(1.0-temp)*(1+(temp)**2.0)*p2 + 2.0*temp*(1+(temp)**2)*(p2)**2\n",
    "    costh = costh/((1.0-temp+2.0*temp*p2)**2)\n",
    "    sinth = np.sqrt(np.abs(1.0-(costh**2)))\n",
    "    \n",
    "    yyy = np.random.rand(1)\n",
    "    phi = 2*np.pi*yyy\n",
    "    cosph = np.cos(phi)\n",
    "    sinph = np.sin(phi)\n",
    "    \n",
    "    xold = x\n",
    "    yold = y\n",
    "    zold = z\n",
    "    p = np.sqrt(xold**2 + yold**2)\n",
    "    x = a*(sinth*cosph*xold*zold/(p*r) - sinth*sinph*yold/p + costh*xold/r)\n",
    "    y = a*(sinth*cosph*yold*zold/(p*r) + sinth*sinph*xold/p + costh*yold/r)\n",
    "    z = a*(-sinth*cosph*p/r + costh*zold/r)\n",
    "    \n",
    "    return (x, y, z)"
   ]
  },
  {
   "cell_type": "code",
   "execution_count": 4,
   "metadata": {
    "collapsed": false,
    "scrolled": true
   },
   "outputs": [
    {
     "name": "stdout",
     "output_type": "stream",
     "text": [
      "0:00:54.067866\n"
     ]
    }
   ],
   "source": [
    "# divide the hemisphere to 100 pins\n",
    "# delta(theta) = pi/100\n",
    "pts = 1000000\n",
    "thetas = []\n",
    "\n",
    "# direct sampling\n",
    "# sampling pts points\n",
    "# a sphere with radius 1, center at origin\n",
    "t = datetime.datetime.now()\n",
    "for step in range(pts):\n",
    "    # create a vector v_x, v_y, v_z --> theta = (Ox, v) from -pi/2 to pi/2\n",
    "    (v_x, v_y, v_z) = bsurf(x, y, z, r)\n",
    "    sintheta = (np.sqrt((v_x-(x/2))**2+(v_y-(y/2))**2+(v_z-(z/2))**2))/(2*a)\n",
    "    theta = np.arcsin(sintheta[0])\n",
    "    thetas.append(theta*2)\n",
    "    \n",
    "timedelta = datetime.datetime.now() - t\n",
    "print(timedelta)"
   ]
  },
  {
   "cell_type": "code",
   "execution_count": 5,
   "metadata": {
    "collapsed": true
   },
   "outputs": [],
   "source": [
    "# analytic\n",
    "the = np.linspace(0,np.pi);\n",
    "q = 600*np.sin(the)/(8*np.pi*(20-16*np.cos(the))**(3/2));"
   ]
  },
  {
   "cell_type": "code",
   "execution_count": 6,
   "metadata": {
    "collapsed": false
   },
   "outputs": [
    {
     "data": {
      "text/plain": [
       "1.333333333333333"
      ]
     },
     "execution_count": 6,
     "metadata": {},
     "output_type": "execute_result"
    }
   ],
   "source": [
    "Rc = 4;\n",
    "a = Rc/2;\n",
    "p = 1;\n",
    "z1 = a - p;\n",
    "d = (Rc**2)/(2*a-z1) - 2*a;\n",
    "d"
   ]
  },
  {
   "cell_type": "code",
   "execution_count": 9,
   "metadata": {
    "collapsed": false
   },
   "outputs": [],
   "source": [
    "def plane():\n",
    "    x = np.random.rand(1)\n",
    "    rho_d = np.sqrt((1-x**2)/(x**2))\n",
    "    return rho_d[0]"
   ]
  },
  {
   "cell_type": "code",
   "execution_count": 10,
   "metadata": {
    "collapsed": true
   },
   "outputs": [],
   "source": [
    "def sphere(x,y,z):\n",
    "    r = np.sqrt(x**2 + y**2 + z**2)\n",
    "    the = np.arccos(z/r)\n",
    "    phi = np.arctan(y/x)\n",
    "    return (r,the,phi)"
   ]
  },
  {
   "cell_type": "code",
   "execution_count": 11,
   "metadata": {
    "collapsed": false
   },
   "outputs": [],
   "source": [
    "# point in plane --> sphere\n",
    "# r1_d = plane()\n",
    "def point(rho_d, Rc):\n",
    "    rho = rho_d*d\n",
    "    (xA, yA, zA) = (rho,0,-4)\n",
    "    v = sphere(xA,yA,zA)\n",
    "    v1 = Rc**2/v[0]\n",
    "    xA1 = v1*np.sin(v[1])*np.cos(v[2])\n",
    "    yA1 = v1*np.sin(v[1])*np.sin(v[2])\n",
    "    zA1 = v1*np.cos(v[1])\n",
    "    return [xA1,yA1,zA1]"
   ]
  },
  {
   "cell_type": "code",
   "execution_count": 6,
   "metadata": {
    "collapsed": false
   },
   "outputs": [],
   "source": [
    "# Rodrigues's rotation \n",
    "# v = point(rho_d, Rc)\n",
    "def rotate(v):   \n",
    "    theta = np.random.uniform(np.pi*2)\n",
    "    k = np.array([0.0,0.0,-1.0])\n",
    "    v = np.array(v)\n",
    "    v_rot = v*np.cos(theta) + np.cross(k,v)*np.sin(theta) + k*(np.dot(k,v))*(1-np.cos(theta));\n",
    "    return v_rot"
   ]
  },
  {
   "cell_type": "code",
   "execution_count": 99,
   "metadata": {
    "collapsed": false,
    "scrolled": true
   },
   "outputs": [
    {
     "name": "stdout",
     "output_type": "stream",
     "text": [
      "0:00:06.780379\n"
     ]
    },
    {
     "data": {
      "image/png": "[encoded data removed]",
      "text/plain": [
       "<matplotlib.figure.Figure at 0x1becb447048>"
      ]
     },
     "metadata": {},
     "output_type": "display_data"
    }
   ],
   "source": [
    "pts1 = 1000000\n",
    "thetas1 = []  # without rotation\n",
    "thetas2 = []\n",
    "\n",
    "\n",
    "# sampling via conformal map\n",
    "t1 = datetime.datetime.now()\n",
    "for step in range(pts1):\n",
    "    rho_d = plane()\n",
    "    rho = rho_d * d\n",
    "    arctantheta = np.arctan(rho/Rc)\n",
    "    thetas1.append(2*arctantheta)\n",
    "\n",
    "timedelta1 = datetime.datetime.now() - t1\n",
    "print(timedelta1)\n",
    "\n",
    "fig,ax = plt.subplots(1,1)             \n",
    "y1, binEd1 = np.histogram(thetas1, bins = 100, density = 1);\n",
    "bincenters1 = binEd1[1:]\n",
    "total = 0\n",
    "for i in range(100):\n",
    "    rh = 4*np.tan(bincenters1[i]/2)\n",
    "    bin = y1[i]*(4*a)/(Rc*np.sqrt(4*a**2+rh**2))\n",
    "    y1[i] = bin\n",
    "ax.plot(bincenters1, y1, 'o');"
   ]
  },
  {
   "cell_type": "code",
   "execution_count": 17,
   "metadata": {
    "collapsed": false
   },
   "outputs": [
    {
     "name": "stdout",
     "output_type": "stream",
     "text": [
      "0:07:28.327442\n"
     ]
    }
   ],
   "source": [
    "# sampling with 75 times\n",
    "t1 = datetime.datetime.now()\n",
    "for steps in range(75):\n",
    "    pts1 = 1000000\n",
    "    thetas1 = []\n",
    "    for step in range(pts1):\n",
    "        r1_d = plane()\n",
    "        r1 = r1_d * d\n",
    "        arctantheta = np.arctan(r1/Rc)\n",
    "        thetas1.append(2*arctantheta)\n",
    "\n",
    "timedelta1 = datetime.datetime.now() - t1\n",
    "print(timedelta1)"
   ]
  },
  {
   "cell_type": "code",
   "execution_count": 8,
   "metadata": {
    "collapsed": false
   },
   "outputs": [
    {
     "name": "stdout",
     "output_type": "stream",
     "text": [
      "0:00:44.424353\n"
     ]
    }
   ],
   "source": [
    "# sampling via conformal map and then do rotation to check\n",
    "t1 = datetime.datetime.now()\n",
    "pts1 = 1000000\n",
    "thetas1 = []  # without rotation\n",
    "thetas2 = []\n",
    "for step in range(pts1):\n",
    "    x = np.random.rand(1)\n",
    "    rho_d = np.sqrt((1-x**2)/(x**2))\n",
    "    rho = rho_d * d\n",
    "    (xA, yA, zA) = (rho,0,-4)\n",
    "    r = np.sqrt(xA**2 + zA**2)\n",
    "    sinthe = rho/r\n",
    "    v1 = Rc**2/r\n",
    "    xA1 = v1*sinthe\n",
    "    zA1 = v1*Rc/r\n",
    "    v8 = [xA1[0],0,zA1[0]]\n",
    "    v1 = rotate(v8)\n",
    "    costheta2 = np.sqrt(v1[0]**2 + v1[1]**2 + v1[2]**2)/Rc\n",
    "    thetas2.append(2*np.arccos(costheta2))\n",
    "\n",
    "timedelta1 = datetime.datetime.now() - t1\n",
    "print(timedelta1)"
   ]
  },
  {
   "cell_type": "code",
   "execution_count": 113,
   "metadata": {
    "collapsed": false
   },
   "outputs": [],
   "source": [
    "# export data\n",
    "\n",
    "table = [bincenters1, y1]\n",
    "my_df = pd.DataFrame(table).transpose()\n",
    "my_df.to_csv('table.csv', index = None, header = None)\n",
    "\n",
    "table1 = [the1, q1]\n",
    "my_df1 = pd.DataFrame(table1).transpose()\n",
    "my_df1.to_csv('table1.csv', index = None, header = None)"
   ]
  },
  {
   "cell_type": "code",
   "execution_count": 102,
   "metadata": {
    "collapsed": false
   },
   "outputs": [
    {
     "data": {
      "text/plain": [
       "[<matplotlib.lines.Line2D at 0x1becc04d860>]"
      ]
     },
     "execution_count": 102,
     "metadata": {},
     "output_type": "execute_result"
    },
    {
     "data": {
      "image/png": "[encoded data removed]",
      "text/plain": [
       "<matplotlib.figure.Figure at 0x1becc007a58>"
      ]
     },
     "metadata": {},
     "output_type": "display_data"
    }
   ],
   "source": [
    "# analytic\n",
    "fig,ax = plt.subplots(1,1)   \n",
    "ax.plot(bincenters1, y1, 'o');\n",
    "the1 = np.linspace(0,np.pi);\n",
    "q1 = 3*(2.35)*np.sin(the1)/(2*np.pi*(5-4*np.cos(the1))**(3/2));\n",
    "plt.plot(the1,q1)"
   ]
  },
  {
   "cell_type": "code",
   "execution_count": null,
   "metadata": {
    "collapsed": true
   },
   "outputs": [],
   "source": []
  }
 ],
 "metadata": {
  "anaconda-cloud": {},
  "kernelspec": {
   "display_name": "Python [default]",
   "language": "python",
   "name": "python3"
  },
  "language_info": {
   "codemirror_mode": {
    "name": "ipython",
    "version": 3
   },
   "file_extension": ".py",
   "mimetype": "text/x-python",
   "name": "python",
   "nbconvert_exporter": "python",
   "pygments_lexer": "ipython3",
   "version": "3.5.6"
  }
 },
 "nbformat": 4,
 "nbformat_minor": 2
}
