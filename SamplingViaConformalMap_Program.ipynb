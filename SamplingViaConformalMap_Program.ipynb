{
 "cells": [
  {
   "cell_type": "code",
   "execution_count": 1,
   "metadata": {
    "collapsed": true
   },
   "outputs": [],
   "source": [
    "%matplotlib inline\n",
    "import matplotlib.pyplot as plt\n",
    "import numpy as np\n",
    "import pandas as pd\n",
    "import datetime"
   ]
  },
  {
   "cell_type": "code",
   "execution_count": 2,
   "metadata": {
    "collapsed": false
   },
   "outputs": [],
   "source": [
    "x, y, z = 4/np.sqrt(3),4/np.sqrt(3),4/np.sqrt(3)\n",
    "r = 4\n",
    "a = 2"
   ]
  },
  {
   "cell_type": "code",
   "execution_count": 3,
   "metadata": {
    "collapsed": false
   },
   "outputs": [],
   "source": [
    "# calculate point's coordinates from charge using random walk\n",
    "# return point's coordinates\n",
    "def bsurf(x, y, z, r) :\n",
    "    temp = a/r\n",
    "    p2 = np.random.rand(1)\n",
    "    costh = -(1.0-temp)**2 + 2*(1.0-temp)*(1+(temp)**2.0)*p2 + 2.0*temp*(1+(temp)**2)*(p2)**2\n",
    "    costh = costh/((1.0-temp+2.0*temp*p2)**2)\n",
    "    sinth = np.sqrt(np.abs(1.0-(costh**2)))\n",
    "    \n",
    "    yyy = np.random.rand(1)\n",
    "    phi = 2*np.pi*yyy\n",
    "    cosph = np.cos(phi)\n",
    "    sinph = np.sin(phi)\n",
    "    \n",
    "    xold = x\n",
    "    yold = y\n",
    "    zold = z\n",
    "    p = np.sqrt(xold**2 + yold**2)\n",
    "    x = a*(sinth*cosph*xold*zold/(p*r) - sinth*sinph*yold/p + costh*xold/r)\n",
    "    y = a*(sinth*cosph*yold*zold/(p*r) + sinth*sinph*xold/p + costh*yold/r)\n",
    "    z = a*(-sinth*cosph*p/r + costh*zold/r)\n",
    "    \n",
    "    return (x, y, z)"
   ]
  },
  {
   "cell_type": "code",
   "execution_count": 4,
   "metadata": {
    "collapsed": false,
    "scrolled": true
   },
   "outputs": [
    {
     "name": "stdout",
     "output_type": "stream",
     "text": [
      "0:00:59.510203\n"
     ]
    }
   ],
   "source": [
    "# divide the hemisphere to 100 pins\n",
    "# delta(theta) = pi/100\n",
    "pts = 1000000\n",
    "thetas = []\n",
    "\n",
    "# direct sampling\n",
    "# sampling pts points\n",
    "# a sphere with radius 1, center at origin\n",
    "t = datetime.datetime.now()\n",
    "for step in range(pts):\n",
    "    # create a vector v_x, v_y, v_z --> theta = (Ox, v) from -pi/2 to pi/2\n",
    "    (v_x, v_y, v_z) = bsurf(x, y, z, r)\n",
    "    sintheta = (np.sqrt((v_x-(x/2))**2+(v_y-(y/2))**2+(v_z-(z/2))**2))/(2*a)\n",
    "    theta = np.arcsin(sintheta[0])\n",
    "    thetas.append(theta*2)\n",
    "    \n",
    "timedelta = datetime.datetime.now() - t\n",
    "print(timedelta)"
   ]
  },
  {
   "cell_type": "code",
   "execution_count": 5,
   "metadata": {
    "collapsed": true
   },
   "outputs": [],
   "source": [
    "# analytic\n",
    "the = np.linspace(0,np.pi);\n",
    "q = 600*np.sin(the)/(8*np.pi*(20-16*np.cos(the))**(3/2));"
   ]
  },
  {
   "cell_type": "code",
   "execution_count": 6,
   "metadata": {
    "collapsed": false
   },
   "outputs": [
    {
     "data": {
      "text/plain": [
       "1.333333333333333"
      ]
     },
     "execution_count": 6,
     "metadata": {},
     "output_type": "execute_result"
    }
   ],
   "source": [
    "Rc = 4;\n",
    "a = Rc/2;\n",
    "p = 1;\n",
    "z1 = a - p;\n",
    "d = (Rc**2)/(2*a-z1) - 2*a;\n",
    "d"
   ]
  },
  {
   "cell_type": "code",
   "execution_count": 7,
   "metadata": {
    "collapsed": false
   },
   "outputs": [
    {
     "name": "stdout",
     "output_type": "stream",
     "text": [
      "0:00:29.767659\n"
     ]
    }
   ],
   "source": [
    "# sampling via conformal map and then do rotation to check\n",
    "t1 = datetime.datetime.now()\n",
    "pts1 = 1000000\n",
    "thetas2 = []\n",
    "for step in range(pts1):\n",
    "    x = np.random.rand(1)\n",
    "    rho_d = np.sqrt((1-x**2)/(x**2))\n",
    "    rho = rho_d * d\n",
    "    (xA, yA, zA) = (rho,0,-4)\n",
    "    r = np.sqrt(rho**2 + (-4)**2)\n",
    "    sinthe = rho/r\n",
    "    v1 = Rc**2/r\n",
    "    xA1 = v1*sinthe\n",
    "    zA1 = v1*Rc/r\n",
    "\n",
    "    theta = np.random.uniform(np.pi*2)\n",
    "    i = np.cos(theta)\n",
    "    j = np.sin(theta)\n",
    "    vX = xA1*i\n",
    "    vY = xA1*j\n",
    "    vZ = zA1*i + 0 + zA1*(1-i)\n",
    "    \n",
    "    costheta2 = np.sqrt(vX**2 + vY**2 + vZ**2)/Rc\n",
    "    thetas2.append(2*np.arccos(costheta2))\n",
    "\n",
    "timedelta1 = datetime.datetime.now() - t1\n",
    "print(timedelta1)"
   ]
  },
  {
   "cell_type": "code",
   "execution_count": 13,
   "metadata": {
    "collapsed": true
   },
   "outputs": [],
   "source": [
    "# analytic\n",
    "the2 = np.linspace(0,np.pi);\n",
    "q2 = (3 - 3/np.sqrt(5-4*np.cos(the)))/2;"
   ]
  },
  {
   "cell_type": "code",
   "execution_count": 15,
   "metadata": {
    "collapsed": false
   },
   "outputs": [
    {
     "name": "stderr",
     "output_type": "stream",
     "text": [
      "C:\\Users\\Henry\\Anaconda3\\lib\\site-packages\\ipykernel\\__main__.py:1: VisibleDeprecationWarning: Passing `normed=True` on non-uniform bins has always been broken, and computes neither the probability density function nor the probability mass function. The result is only correct if the bins are uniform, when density=True will produce the same result anyway. The argument will be removed in a future version of numpy.\n",
      "  if __name__ == '__main__':\n"
     ]
    },
    {
     "data": {
      "text/plain": [
       "<matplotlib.text.Text at 0x21742735f98>"
      ]
     },
     "execution_count": 15,
     "metadata": {},
     "output_type": "execute_result"
    },
    {
     "data": {
      "image/png": "[encoded data removed]",
      "text/plain": [
       "<matplotlib.figure.Figure at 0x2174270a908>"
      ]
     },
     "metadata": {},
     "output_type": "display_data"
    }
   ],
   "source": [
    "y, binEd = np.histogram(thetas, bins = 100, normed = True);\n",
    "F1 = np.cumsum(y)\n",
    "scale = 1/F1[-1]\n",
    "nF1 = F1 * scale\n",
    "bincenters = binEd[1:]\n",
    "             \n",
    "y2, binEd2 = np.histogram(thetas2, bins = 100, density = 1);\n",
    "bincenters2 = binEd2[1:]\n",
    "for i in range(100):\n",
    "    rh = 4*np.tan(bincenters2[i]/2)\n",
    "    bin = y2[i]*(4*a)/(Rc*np.sqrt(4*a**2+rh**2))\n",
    "    y2[i] = bin\n",
    "F1 = np.cumsum(y2)\n",
    "scale = 1/F1[-1]\n",
    "nF1 = F1 * scale\n",
    "\n",
    "fig,ax = plt.subplots(1,1)             \n",
    "plot1=ax.plot(bincenters2, nF1, 'o',label='numerical');\n",
    "plot2=ax.plot(the2,q2,label='analytic');\n",
    "ax.set_xlabel(\"theta\")\n",
    "ax.set_ylabel(\"charge\")"
   ]
  },
  {
   "cell_type": "code",
   "execution_count": 16,
   "metadata": {
    "collapsed": false
   },
   "outputs": [],
   "source": [
    "# export data\n",
    "\n",
    "table = [bincenters2, nF1]\n",
    "my_df = pd.DataFrame(table).transpose()\n",
    "my_df.to_csv('table.csv', index = None, header = None)\n",
    "\n",
    "table1 = [the2, q2]\n",
    "my_df1 = pd.DataFrame(table1).transpose()\n",
    "my_df1.to_csv('table1.csv', index = None, header = None)"
   ]
  },
  {
   "cell_type": "code",
   "execution_count": null,
   "metadata": {
    "collapsed": true
   },
   "outputs": [],
   "source": []
  }
 ],
 "metadata": {
  "anaconda-cloud": {},
  "kernelspec": {
   "display_name": "Python [default]",
   "language": "python",
   "name": "python3"
  },
  "language_info": {
   "codemirror_mode": {
    "name": "ipython",
    "version": 3
   },
   "file_extension": ".py",
   "mimetype": "text/x-python",
   "name": "python",
   "nbconvert_exporter": "python",
   "pygments_lexer": "ipython3",
   "version": "3.5.6"
  }
 },
 "nbformat": 4,
 "nbformat_minor": 2
}
